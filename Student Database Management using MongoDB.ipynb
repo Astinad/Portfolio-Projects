{
 "cells": [
  {
   "cell_type": "code",
   "execution_count": 14,
   "id": "341f0c67",
   "metadata": {},
   "outputs": [
    {
     "name": "stdout",
     "output_type": "stream",
     "text": [
      "Collecting package metadata (current_repodata.json): ...working... done\n",
      "Solving environment: ...working... done\n",
      "\n",
      "# All requested packages already installed.\n",
      "\n",
      "\n",
      "Note: you may need to restart the kernel to use updated packages.\n"
     ]
    }
   ],
   "source": [
    "conda install -c conda-forge tk"
   ]
  },
  {
   "cell_type": "code",
   "execution_count": 30,
   "id": "ceac1e00",
   "metadata": {},
   "outputs": [],
   "source": [
    "import sys\n",
    "if sys.version_info[0] == 3:\n",
    "    import tkinter as tk\n",
    "else:\n",
    "    import tkinter as tk"
   ]
  },
  {
   "cell_type": "code",
   "execution_count": 31,
   "id": "a6fc71ed",
   "metadata": {},
   "outputs": [],
   "source": [
    "import tkinter\n",
    "import _tkinter\n",
    "tkinter._test()"
   ]
  },
  {
   "cell_type": "code",
   "execution_count": 35,
   "id": "bc317729",
   "metadata": {},
   "outputs": [],
   "source": [
    "from pymongo import MongoClient\n",
    "from random import randint\n",
    "from tkinter import *\n",
    "from tkinter import ttk\n",
    "import tkinter.messagebox\n",
    "from tkinter import Button\n",
    "import sys"
   ]
  },
  {
   "cell_type": "code",
   "execution_count": 36,
   "id": "c2d09607",
   "metadata": {},
   "outputs": [
    {
     "name": "stdout",
     "output_type": "stream",
     "text": [
      "Connected to MongoDB\n"
     ]
    }
   ],
   "source": [
    "try:\n",
    "    client = MongoClient(port=27017)\n",
    "    db=client.Assignment08\n",
    "    print(\"Connected to MongoDB\")\n",
    "except :\n",
    "    print(\"Database connection Error \")\n",
    "    print(\"No connection could be made because the target machine actively refused it \")\n",
    "    tkMessageBox.showerror(\"Error\", \"Connection Error\")\n",
    "    sys.exit(1)"
   ]
  },
  {
   "cell_type": "code",
   "execution_count": 37,
   "id": "5508829c",
   "metadata": {},
   "outputs": [
    {
     "data": {
      "text/plain": [
       "''"
      ]
     },
     "execution_count": 37,
     "metadata": {},
     "output_type": "execute_result"
    }
   ],
   "source": [
    "# create root window\n",
    "root=Tk()\n",
    "# root window title and dimension\n",
    "root.geometry('400x350')\n",
    "root.title(\"Student Management System\")"
   ]
  },
  {
   "cell_type": "code",
   "execution_count": 54,
   "id": "a2122138",
   "metadata": {},
   "outputs": [],
   "source": [
    "def add_STUDENTS(root,db): \n",
    "    def add_query():\n",
    "        global root\n",
    "        prn = E1.get()\n",
    "        name = E2.get()\n",
    "        email = E3.get()\n",
    "        batch = E4.get()\n",
    "        mobile = E5.get()\n",
    "        PRN = [prn]\n",
    "        NAME = [name]\n",
    "        EMAIL = [email]\n",
    "        BATCH = [batch]\n",
    "        MOBILE = [mobile]\n",
    "        Assignment01 = {\n",
    "        'PRN' : PRN[randint(0, (len(PRN)-1))] ,\n",
    "        'NAME' : NAME[randint(0, (len(NAME)-1))],\n",
    "        'EMAIL' : EMAIL[randint(0, (len(EMAIL)-1))],\n",
    "        'BATCH' : BATCH[randint(0, (len(BATCH)-1))],\n",
    "        'MOBILE' : MOBILE[randint(0, (len(MOBILE)-1))]}\n",
    "        if(len(prn)==0):\n",
    "            tkMessageBox.showwarning(\"WARNING\", \"All fields are compulsory(Except: Mobile number)\")\n",
    "            return\n",
    "        if(len(name)==0):\n",
    "            tkMessageBox.showwarning(\"WARNING\", \"All fields are compulsory(Except: Mobile number)\")\n",
    "            return\n",
    "        if(len(email)==0):\n",
    "            tkMessageBox.showwarning(\"WARNING\", \"All fields are compulsory(Except: Mobile number)\")\n",
    "            return\n",
    "        if(len(batch)==0):\n",
    "            tkMessageBox.showwarning(\"WARNING\", \"All fields are compulsory(Except: Mobile number)\")\n",
    "            return\n",
    "        if len(mobile)==0 and db.students.count_documents({ 'PRN': prn }, limit = 1)==0:\n",
    "             result=db.students.insert_one({'PRN':prn,'NAME':name, 'EMAIL':email,'BATCH':batch})\n",
    "        elif len(mobile)!=0 and db.students.count_documents({ 'PRN': prn }, limit = 1)==0:\n",
    "             result=db.students.insert_one(Assignment08)\n",
    "        else:\n",
    "             tkMessageBox.showwarning(\"ERROR\", \"STUDENT Already Exists\")\n",
    "             return\n",
    "       \n",
    "        newwin.destroy()\n",
    "        tkMessageBox.showinfo(\"Add Student\", \"Student Added\")"
   ]
  },
  {
   "cell_type": "code",
   "execution_count": 55,
   "id": "177776c1",
   "metadata": {},
   "outputs": [
    {
     "data": {
      "text/plain": [
       "''"
      ]
     },
     "execution_count": 55,
     "metadata": {},
     "output_type": "execute_result"
    }
   ],
   "source": [
    "newwin = Toplevel(root)\n",
    "newwin.geometry('400x400')\n",
    "newwin.title(\"Add STUDENTS\")"
   ]
  },
  {
   "cell_type": "code",
   "execution_count": 57,
   "id": "9aa35b39",
   "metadata": {},
   "outputs": [],
   "source": [
    "L1 = Label(newwin, text=\"PRN\")\n",
    "L1.place(x=10,y=50)\n",
    "E1 = Entry(newwin, bd=7)\n",
    "E1.place(x=100,y=50)\n",
    "\n",
    "L2 = Label(newwin, text=\"NAME\")\n",
    "L2.place(x=10,y=100)\n",
    "E2 = Entry(newwin, bd=7)\n",
    "E2.place(x=100,y=100)\n",
    "\n",
    "L3 = Label(newwin, text=\"EMAIL\")\n",
    "L3.place(x=10,y=150)\n",
    "E3 = Entry(newwin, bd=7)\n",
    "E3.place(x=100,y=150)\n",
    "\n",
    "L4 = Label(newwin, text=\"BATCH\")\n",
    "L4.place(x=10,y=200)\n",
    "E4 = Entry(newwin, bd=7)\n",
    "E4.place(x=100,y=200)\n",
    "\n",
    "L5 = Label(newwin, text=\"MOBILE\")\n",
    "L5.place(x=10,y=250)\n",
    "E5 = Entry(newwin, bd=7)\n",
    "E5.place(x=100,y=250)\n",
    "\n",
    "# creating button\n",
    "sub=Button(newwin,text=\"Submit\",command='add_query')\n",
    "sub.place(x=120,y=350)"
   ]
  },
  {
   "cell_type": "code",
   "execution_count": 58,
   "id": "8196e69a",
   "metadata": {},
   "outputs": [],
   "source": [
    "\n",
    "def del_data(root,db):\n",
    "    def delete():\n",
    "        global root\n",
    "        prn = E1.get()\n",
    "        if(len(prn)==0):\n",
    "            tkMessageBox.showwarning(\"WARNING\", \"Enter a Valid PRN\")\n",
    "            return\n",
    "        if db.students.count_documents({ 'PRN': prn }, limit = 1)==0:\n",
    "            tkMessageBox.showwarning(\"ERROR\", \"STUDENT Does Not Exist\")\n",
    "            return\n",
    "        else:\n",
    "            db.students.delete_one({'PRN':prn})\n",
    "        newwin.destroy()\n",
    "        tkMessageBox.showinfo(\"Delete Student\", \"Student Deleted\")"
   ]
  },
  {
   "cell_type": "code",
   "execution_count": 59,
   "id": "e65a5685",
   "metadata": {},
   "outputs": [],
   "source": [
    "def del_data(root,db):\n",
    "    def delete():\n",
    "        global root\n",
    "        prn = E1.get()\n",
    "        if(len(prn)==0):\n",
    "            tkMessageBox.showwarning(\"WARNING\", \"Enter a Valid PRN\")\n",
    "            return\n",
    "        if db.students.count_documents({ 'PRN': prn }, limit = 1)==0:\n",
    "            tkMessageBox.showwarning(\"ERROR\", \"STUDENT Does Not Exist\")\n",
    "            return\n",
    "        else:\n",
    "            db.students.delete_one({'PRN':prn})\n",
    "        newwin.destroy()\n",
    "        tkMessageBox.showinfo(\"Delete Student\", \"Student Deleted\")"
   ]
  },
  {
   "cell_type": "code",
   "execution_count": 60,
   "id": "e9b27fce",
   "metadata": {},
   "outputs": [
    {
     "data": {
      "text/plain": [
       "''"
      ]
     },
     "execution_count": 60,
     "metadata": {},
     "output_type": "execute_result"
    }
   ],
   "source": [
    "newwin=Toplevel(root)\n",
    "newwin.geometry('400x350')\n",
    "newwin.title(\"Delete STUDENT\")"
   ]
  },
  {
   "cell_type": "code",
   "execution_count": 61,
   "id": "002c407b",
   "metadata": {},
   "outputs": [],
   "source": [
    "L1 = Label(newwin, text=\"PRN\")\n",
    "L1.place(x=10, y=50)\n",
    "E1 = Entry(newwin,bd=5)\n",
    "E1.place(x=100, y=50)\n",
    "sub = Button(newwin, text=\"Delete Entry\", command='delete')\n",
    "sub.place(x=120, y=200)"
   ]
  },
  {
   "cell_type": "code",
   "execution_count": 62,
   "id": "16ffa570",
   "metadata": {},
   "outputs": [],
   "source": [
    "def update_data(root,db):\n",
    "    def UPDD():\n",
    "        global root\n",
    "        prn = E6.get()\n",
    "        name = E7.get()\n",
    "        email = E8.get()\n",
    "        batch = E9.get()\n",
    "        mobile = E10.get()\n",
    "        if(len(prn)==0):\n",
    "            tkMessageBox.showwarning(\"WARNING\", \"Enter a Valid PRN\")\n",
    "            return\n",
    "        \n",
    "        if db.students.count_documents({ 'PRN': prn }, limit = 1)==0:\n",
    "            tkMessageBox.showwarning(\"ERROR\", \"STUDENT Does Not Exist\")\n",
    "            return\n",
    "        \n",
    "        if(len(name)!=0):\n",
    "            db.students.update_one({\"PRN\":prn},{\"$set\": {'NAME' : name}})\n",
    "            \n",
    "            if(len(email)!=0):\n",
    "                db.students.update_one({\"PRN\":prn},{\"$set\": {'EMAIL' : email}})\n",
    "            \n",
    "            if(len(batch)!=0):\n",
    "                    db.students.update_one({\"PRN\":prn},{\"$set\": {'BATCH' : batch}})\n",
    "                    \n",
    "            if(len(mobile)!=0):\n",
    "                db.students.update_one({\"PRN\":prn},{\"$set\": {'MOBILE' : mobile}})\n",
    "            \n",
    "            newwin.destroy()\n",
    "            tkMessageBox.showinfo(\"Update Student\", \"Student Updated\")"
   ]
  },
  {
   "cell_type": "code",
   "execution_count": 63,
   "id": "feb41a5c",
   "metadata": {},
   "outputs": [
    {
     "data": {
      "text/plain": [
       "''"
      ]
     },
     "execution_count": 63,
     "metadata": {},
     "output_type": "execute_result"
    }
   ],
   "source": [
    "newwin = Toplevel(root)\n",
    "newwin.geometry('400x400')\n",
    "newwin.title(\"Update STUDENTS\")"
   ]
  },
  {
   "cell_type": "code",
   "execution_count": 65,
   "id": "3fb963dc",
   "metadata": {},
   "outputs": [],
   "source": [
    "L6 = Label(newwin, text=\"PRN\")\n",
    "L6.place(x=10,y=50)\n",
    "E6 = Entry(newwin, bd=7)\n",
    "E6.place(x=100,y=50)\n",
    "\n",
    "L7 = Label(newwin, text=\"NAME\")\n",
    "L7.place(x=10,y=100)\n",
    "E7 = Entry(newwin, bd=7)\n",
    "E7.place(x=100,y=100)\n",
    "\n",
    "L8 = Label(newwin, text=\"EMAIL\")\n",
    "L8.place(x=10,y=150)\n",
    "E8 = Entry(newwin, bd=7)\n",
    "E8.place(x=100,y=150)\n",
    "\n",
    "L9 = Label(newwin, text=\"BATCH\")\n",
    "L9.place(x=10,y=200)\n",
    "E9 = Entry(newwin, bd=7)\n",
    "E9.place(x=100,y=200)\n",
    "\n",
    "L10 = Label(newwin, text=\"MOBILE\")\n",
    "L10.place(x=10,y=250)\n",
    "E10 = Entry(newwin, bd=7)\n",
    "E10.place(x=100,y=250)\n",
    "\n",
    "sub=Button(newwin,text=\"Submit\",command='UPDD')\n",
    "sub.place(x=120,y=350)"
   ]
  },
  {
   "cell_type": "code",
   "execution_count": 66,
   "id": "a2ff1402",
   "metadata": {},
   "outputs": [],
   "source": [
    "def display(root,db):\n",
    "    newwin=Toplevel(root)\n",
    "    newwin.geometry('400x400')\n",
    "    newwin.title(\"STUDENT Details\")\n",
    "    L1=Label(newwin,text=\"PRN\")\n",
    "    L1.grid(row=0,column=0)\n",
    "    \n",
    "    L2 = Label(newwin, text=\"NAME\")\n",
    "    L2.grid(row=0, column=2)\n",
    "    \n",
    "    L3=Label(newwin,text=\"EMAIL\")\n",
    "    L3.grid(row=0,column=4)\n",
    "    \n",
    "    L4=Label(newwin,text=\"BATCH\")\n",
    "    L4.grid(row=0,column=6)\n",
    "    L5=Label(newwin,text=\"MOBILE\")\n",
    "    L5.grid(row=0,column=8)\n",
    "    i=1\n",
    "    for x in db.students.find():\n",
    "        # print(len(x))\n",
    "        y=len(x)\n",
    "        \n",
    "        L1 = Label(newwin, text=x['PRN'])\n",
    "        L1.grid(row=i, column=0)\n",
    "        \n",
    "        L2 = Label(newwin, text=x['NAME'])\n",
    "        L2.grid(row=i, column=2)\n",
    "        \n",
    "        L3 = Label(newwin, text=x['EMAIL'])\n",
    "        L3.grid(row=i, column=4)\n",
    "        \n",
    "        L4 = Label(newwin, text=x['BATCH'])\n",
    "        L4.grid(row=i, column=6)\n",
    "        \n",
    "        if y==6:\n",
    "            L5 = Label(newwin, text=x['MOBILE'])\n",
    "            L5.grid(row=i, column=8)\n",
    "            i+=1"
   ]
  },
  {
   "cell_type": "code",
   "execution_count": 67,
   "id": "790d1cd2",
   "metadata": {},
   "outputs": [],
   "source": [
    "add= Button(root,text='Add New STUDENTS',command=lambda:add_STUDENTS(root,db))\n",
    "delete= Button(root,text='Delete STUDENTS Entry',command=lambda:del_data(root,db))\n",
    "update= Button(root,text='Update STUDENTS Info',command=lambda:update_data(root,db))\n",
    "show= Button(root,text='Show STUDENTS Details',command=lambda:display(root,db))"
   ]
  },
  {
   "cell_type": "code",
   "execution_count": 68,
   "id": "e97dbda0",
   "metadata": {},
   "outputs": [],
   "source": [
    "add.place(x=100,y=100)\n",
    "delete.place(x=100,y=150)\n",
    "update.place(x=100,y=200)\n",
    "show.place(x=100,y=250)"
   ]
  },
  {
   "cell_type": "code",
   "execution_count": 69,
   "id": "f9be1b2b",
   "metadata": {},
   "outputs": [],
   "source": [
    "# running the main loop\n",
    "root.mainloop()"
   ]
  },
  {
   "cell_type": "code",
   "execution_count": null,
   "id": "1354685c",
   "metadata": {},
   "outputs": [],
   "source": []
  }
 ],
 "metadata": {
  "kernelspec": {
   "display_name": "Python 3 (ipykernel)",
   "language": "python",
   "name": "python3"
  },
  "language_info": {
   "codemirror_mode": {
    "name": "ipython",
    "version": 3
   },
   "file_extension": ".py",
   "mimetype": "text/x-python",
   "name": "python",
   "nbconvert_exporter": "python",
   "pygments_lexer": "ipython3",
   "version": "3.9.12"
  }
 },
 "nbformat": 4,
 "nbformat_minor": 5
}
