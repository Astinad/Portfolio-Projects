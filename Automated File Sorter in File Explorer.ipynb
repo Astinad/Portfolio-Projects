{
 "cells": [
  {
   "cell_type": "code",
   "execution_count": 36,
   "id": "158dd9d0",
   "metadata": {},
   "outputs": [],
   "source": [
    "import os, shutil"
   ]
  },
  {
   "cell_type": "code",
   "execution_count": 37,
   "id": "faafc45c",
   "metadata": {},
   "outputs": [],
   "source": [
    "path = r\"C:/Users/Admin/Desktop/Python/\""
   ]
  },
  {
   "cell_type": "code",
   "execution_count": 38,
   "id": "8007218f",
   "metadata": {},
   "outputs": [],
   "source": [
    "file_names=os.listdir(path)"
   ]
  },
  {
   "cell_type": "code",
   "execution_count": 39,
   "id": "9ba97bd1",
   "metadata": {},
   "outputs": [],
   "source": [
    "folder_names = ['csv files','pdf files','png files', 'python files','ppt files','text files','xls files', 'mp4 files']\n",
    "\n",
    "for loop in range(0,8):\n",
    "    if not os.path.exists(path +folder_names[loop]):\n",
    "        os.makedirs((path+folder_names[loop]))"
   ]
  },
  {
   "cell_type": "code",
   "execution_count": 40,
   "id": "ae6fa227",
   "metadata": {},
   "outputs": [],
   "source": [
    "for file in file_names:\n",
    "    if \".csv\" in file and not os.path.exists(path +\"csv files/\" +file):\n",
    "        shutil.move(path+file , path+\"csv files/\" +file)\n",
    "        \n",
    "    elif \".xls\" in file and not os.path.exists(path +\"xls files/\" +file):\n",
    "        shutil.move(path+file , path+\"csv files/\" +file)\n",
    "        \n",
    "    elif \".xlsx\" in file and not os.path.exists(path +\"xls files/\" +file):\n",
    "        shutil.move(path+file , path+\"csv files/\" +file)\n",
    "        \n",
    "    elif \".pdf\" in file and not os.path.exists(path +\"pdf files/\" +file):\n",
    "        shutil.move(path+file , path+\"pdf files/\" +file)\n",
    "        \n",
    "    elif \".png\" in file and not os.path.exists(path +\"png files/\" +file):\n",
    "        shutil.move(path+file , path+\"png files/\" +file)\n",
    "        \n",
    "    elif \".ipynb\" in file and not os.path.exists(path +\"python files/\" +file):\n",
    "        shutil.move(path+file , path+\"python files/\" +file)\n",
    "        \n",
    "    elif \".pptx\" in file and not os.path.exists(path +\"ppt files/\" +file):\n",
    "        shutil.move(path+file , path+\"ppt files/\" +file)\n",
    "        \n",
    "    elif \".txt\" in file and not os.path.exists(path +\"text files/\" +file):\n",
    "        shutil.move(path+file , path+\"text files/\" +file)\n",
    "        \n",
    "    elif \".mp4\" in file and not os.path.exists(path +\"mp4 files/\" +file):\n",
    "        shutil.move(path+file , path+\"mp4 files/\" +file)\n"
   ]
  },
  {
   "cell_type": "code",
   "execution_count": null,
   "id": "9d218f7e",
   "metadata": {},
   "outputs": [],
   "source": []
  }
 ],
 "metadata": {
  "kernelspec": {
   "display_name": "Python 3 (ipykernel)",
   "language": "python",
   "name": "python3"
  },
  "language_info": {
   "codemirror_mode": {
    "name": "ipython",
    "version": 3
   },
   "file_extension": ".py",
   "mimetype": "text/x-python",
   "name": "python",
   "nbconvert_exporter": "python",
   "pygments_lexer": "ipython3",
   "version": "3.9.12"
  }
 },
 "nbformat": 4,
 "nbformat_minor": 5
}
