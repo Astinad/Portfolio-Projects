{
  "cells": [
    {
      "cell_type": "code",
      "execution_count": 19,
      "id": "0af929bb",
      "metadata": {
        "id": "0af929bb"
      },
      "outputs": [],
      "source": [
        "from bs4 import BeautifulSoup\n",
        "import requests\n",
        "import time\n",
        "import datetime\n",
        "import smtplib"
      ]
    },
    {
      "cell_type": "code",
      "execution_count": 20,
      "id": "b5ca0489",
      "metadata": {
        "id": "b5ca0489"
      },
      "outputs": [],
      "source": [
        "URL = 'https://www.amazon.com/HyperX-Cloud-Gaming-Headset-KHX-HSCP-GM/dp/B00SAYCVTQ/ref=sr_1_4?keywords=gaming+headsets&pd_rd_r=a4796646-0121-426f-964b-70bbbe1aef88&pd_rd_w=8cj1v&pd_rd_wg=GoDSW&pf_rd_p=12129333-2117-4490-9c17-6d31baf0582a&pf_rd_r=8EQ5FNTZPGY00HWRRP54&qid=1678133511&sr=8-4'\n",
        "headers = {\"User-Agent\": \"Mozilla/5.0 (Windows NT 10.0; Win64; x64; rv:109.0) Gecko/20100101 Firefox/110.0\", \"Accept-Encoding\":\"gzip, deflate\", \"Accept\":\"text/html,application/xhtml+xml,application/xml;q=0.9,*/*;q=0.8\", \"DNT\":\"1\",\"Connection\":\"close\", \"Upgrade-Insecure-Requests\":\"1\"}\n",
        "page = requests.get(URL, headers=headers)"
      ]
    },
    {
      "cell_type": "code",
      "execution_count": 21,
      "id": "b074b3cc",
      "metadata": {
        "id": "b074b3cc"
      },
      "outputs": [],
      "source": [
        "soup1 = BeautifulSoup(page.content, \"html.parser\")\n",
        "soup2 = BeautifulSoup(soup1.prettify(), \"html.parser\")"
      ]
    },
    {
      "cell_type": "code",
      "execution_count": 22,
      "id": "9f769124",
      "metadata": {
        "colab": {
          "base_uri": "https://localhost:8080/",
          "height": 183
        },
        "id": "9f769124",
        "outputId": "0b4d4a4e-e4fa-413f-a191-c6e017b555dd"
      },
      "outputs": [
        {
          "output_type": "error",
          "ename": "AttributeError",
          "evalue": "ignored",
          "traceback": [
            "\u001b[0;31m---------------------------------------------------------------------------\u001b[0m",
            "\u001b[0;31mAttributeError\u001b[0m                            Traceback (most recent call last)",
            "\u001b[0;32m<ipython-input-22-60553ccef45f>\u001b[0m in \u001b[0;36m<module>\u001b[0;34m\u001b[0m\n\u001b[0;32m----> 1\u001b[0;31m \u001b[0mtitle\u001b[0m \u001b[0;34m=\u001b[0m \u001b[0msoup2\u001b[0m\u001b[0;34m.\u001b[0m\u001b[0mfind\u001b[0m\u001b[0;34m(\u001b[0m\u001b[0mid\u001b[0m\u001b[0;34m=\u001b[0m\u001b[0;34m'title_feature_div'\u001b[0m\u001b[0;34m)\u001b[0m\u001b[0;34m.\u001b[0m\u001b[0mget_text\u001b[0m\u001b[0;34m(\u001b[0m\u001b[0mseparator\u001b[0m\u001b[0;34m=\u001b[0m\u001b[0;34m\" \"\u001b[0m\u001b[0;34m)\u001b[0m\u001b[0;34m\u001b[0m\u001b[0;34m\u001b[0m\u001b[0m\n\u001b[0m\u001b[1;32m      2\u001b[0m \u001b[0mprice\u001b[0m \u001b[0;34m=\u001b[0m \u001b[0msoup2\u001b[0m\u001b[0;34m.\u001b[0m\u001b[0mfind\u001b[0m\u001b[0;34m(\u001b[0m\u001b[0;34m'span'\u001b[0m\u001b[0;34m,\u001b[0m \u001b[0;34m{\u001b[0m\u001b[0;34m'class'\u001b[0m\u001b[0;34m:\u001b[0m\u001b[0;34m\"a-price a-text-price a-size-medium apexPriceToPay\"\u001b[0m\u001b[0;34m}\u001b[0m\u001b[0;34m)\u001b[0m\u001b[0;34m.\u001b[0m\u001b[0mtext\u001b[0m\u001b[0;34m.\u001b[0m\u001b[0mstrip\u001b[0m\u001b[0;34m(\u001b[0m\u001b[0;34m)\u001b[0m\u001b[0;34m\u001b[0m\u001b[0;34m\u001b[0m\u001b[0m\n",
            "\u001b[0;31mAttributeError\u001b[0m: 'NoneType' object has no attribute 'get_text'"
          ]
        }
      ],
      "source": [
        "title = soup2.find(id='title_feature_div').get_text(separator=\" \")\n",
        "price = soup2.find('span', {'class':\"a-price a-text-price a-size-medium apexPriceToPay\"}).text.strip()"
      ]
    },
    {
      "cell_type": "code",
      "execution_count": null,
      "id": "b4ad7d35",
      "metadata": {
        "id": "b4ad7d35"
      },
      "outputs": [],
      "source": [
        "print(title)\n",
        "print(price)"
      ]
    },
    {
      "cell_type": "code",
      "execution_count": null,
      "id": "12984013",
      "metadata": {
        "id": "12984013"
      },
      "outputs": [],
      "source": [
        "#Removing space\n",
        "price = price.strip()[1:]\n",
        "title = title.strip()\n",
        "\n",
        "print(title)\n",
        "print(price)"
      ]
    },
    {
      "cell_type": "code",
      "execution_count": null,
      "id": "87a4f7d4",
      "metadata": {
        "id": "87a4f7d4"
      },
      "outputs": [],
      "source": [
        "#Create a Timestamp for your output to track when data was collected\n",
        "today = datetime.date.today()\n",
        "print(today)"
      ]
    },
    {
      "cell_type": "code",
      "execution_count": null,
      "id": "70fb4da4",
      "metadata": {
        "id": "70fb4da4"
      },
      "outputs": [],
      "source": [
        "# Create CSV and write headers and data into the file\n",
        "import csv \n",
        "\n",
        "header = ['Title', 'Price', 'Date']\n",
        "data = [title, price, today]   "
      ]
    },
    {
      "cell_type": "code",
      "execution_count": null,
      "id": "cfc01786",
      "metadata": {
        "id": "cfc01786"
      },
      "outputs": [],
      "source": [
        "with open('AmazonWebScraperDataset.csv', 'w', newline='', encoding='UTF8') as f:\n",
        "    writer = csv.writer(f)\n",
        "    writer.writerow(header)\n",
        "    writer.writerow(data)"
      ]
    },
    {
      "cell_type": "code",
      "execution_count": null,
      "id": "c9498653",
      "metadata": {
        "id": "c9498653"
      },
      "outputs": [],
      "source": [
        "import pandas as pd\n",
        "df = pd.read_csv(r'C:\\Users\\Admin\\AmazonWebScraperDataset.csv')\n",
        "print(df)"
      ]
    },
    {
      "cell_type": "code",
      "execution_count": null,
      "id": "2043c407",
      "metadata": {
        "id": "2043c407"
      },
      "outputs": [],
      "source": [
        "#Append data to the csv file\n",
        "with open('AmazonWebScraperDataset.csv', 'a+', newline='', encoding='UTF8') as f:\n",
        "    writer = csv.writer(f)\n",
        "    writer.writerow(data)"
      ]
    },
    {
      "cell_type": "code",
      "execution_count": null,
      "id": "22b82e72",
      "metadata": {
        "id": "22b82e72"
      },
      "outputs": [],
      "source": [
        "#Combine all of the above code into one function\n",
        "\n",
        "\n",
        "def check_price():\n",
        "    URL = 'https://www.amazon.com/HyperX-Cloud-Gaming-Headset-KHX-HSCP-GM/dp/B00SAYCVTQ/ref=sr_1_4?keywords=gaming+headsets&pd_rd_r=a4796646-0121-426f-964b-70bbbe1aef88&pd_rd_w=8cj1v&pd_rd_wg=GoDSW&pf_rd_p=12129333-2117-4490-9c17-6d31baf0582a&pf_rd_r=8EQ5FNTZPGY00HWRRP54&qid=1678133511&sr=8-4'\n",
        "    \n",
        "    headers = {\"User-Agent\": \"Mozilla/5.0 (Windows NT 10.0; Win64; x64; rv:109.0) Gecko/20100101 Firefox/110.0\", \"Accept-Encoding\":\"gzip, deflate\", \"Accept\":\"text/html,application/xhtml+xml,application/xml;q=0.9,*/*;q=0.8\", \"DNT\":\"1\",\"Connection\":\"close\", \"Upgrade-Insecure-Requests\":\"1\"}\n",
        "    \n",
        "    page = requests.get(URL, headers=headers)\n",
        "\n",
        "    soup1 = BeautifulSoup(page.content, \"html.parser\")\n",
        "\n",
        "    soup2 = BeautifulSoup(soup1.prettify(), \"html.parser\")\n",
        "\n",
        "    title = soup2.find(id='title_feature_div').get_text()\n",
        "    \n",
        "    price = soup2.find('span', {'class':\"a-price a-text-price a-size-medium apexPriceToPay\"}).text.strip()\n",
        "\n",
        "    price = price.strip()[1:]\n",
        "    title = title.strip()\n",
        "\n",
        "    import datetime\n",
        "\n",
        "    today = datetime.date.today()\n",
        "    \n",
        "    import csv \n",
        "\n",
        "    header = ['Title', 'Price', 'Date']\n",
        "    data = [title, price, today]\n",
        "\n",
        "    with open('AmazonWebScraperDataset.csv', 'a+', newline='', encoding='UTF8') as f:\n",
        "        writer = csv.writer(f)\n",
        "        writer.writerow(data)"
      ]
    },
    {
      "cell_type": "code",
      "execution_count": null,
      "id": "ca63813b",
      "metadata": {
        "id": "ca63813b"
      },
      "outputs": [],
      "source": [
        "# Runs check_price after a set time and inputs data into your CSV\n",
        "while(True):\n",
        "    check_price()\n",
        "    time.sleep(86400)"
      ]
    },
    {
      "cell_type": "code",
      "execution_count": null,
      "id": "c335828e",
      "metadata": {
        "id": "c335828e"
      },
      "outputs": [],
      "source": [
        "import pandas as pd\n",
        "df = pd.read_csv(r'C:\\Users\\Admin\\AmazonWebScraperDataset.csv')\n",
        "print(df)"
      ]
    },
    {
      "cell_type": "code",
      "execution_count": null,
      "id": "f878b1d0",
      "metadata": {
        "id": "f878b1d0"
      },
      "outputs": [],
      "source": [
        "# Send yourself an email when a price hits below a certain level\n",
        "\n",
        "def send_mail():\n",
        "    server = smtplib.SMTP_SSL('smtp.gmail.com',465)\n",
        "    server.ehlo()\n",
        "    #server.starttls()\n",
        "    server.ehlo()\n",
        "    server.login('astinad@gmail.com','xxxxxxxxxxx')\n",
        "    \n",
        "    subject = \"The headphones you want is below $80! Now is your chance to buy!\"\n",
        "    body = \"Astina, This is the moment we have been waiting for. Now is your chance to pick up the headphones of your dreams. Don't miss it! Link here: https://www.amazon.com/HyperX-Cloud-Gaming-Headset-KHX-HSCP-GM/dp/B00SAYCVTQ/ref=sr_1_4?keywords=gaming+headsets&pd_rd_r=a4796646-0121-426f-964b-70bbbe1aef88&pd_rd_w=8cj1v&pd_rd_wg=GoDSW&pf_rd_p=12129333-2117-4490-9c17-6d31baf0582a&pf_rd_r=8EQ5FNTZPGY00HWRRP54&qid=1678133511&sr=8-4\"\n",
        "   \n",
        "    msg = f\"Subject: {subject}\\n\\n{body}\"\n",
        "    \n",
        "    server.sendmail('astinad@gmail.com', msg)"
      ]
    }
  ],
  "metadata": {
    "kernelspec": {
      "display_name": "Python 3 (ipykernel)",
      "language": "python",
      "name": "python3"
    },
    "language_info": {
      "codemirror_mode": {
        "name": "ipython",
        "version": 3
      },
      "file_extension": ".py",
      "mimetype": "text/x-python",
      "name": "python",
      "nbconvert_exporter": "python",
      "pygments_lexer": "ipython3",
      "version": "3.9.12"
    },
    "colab": {
      "provenance": []
    }
  },
  "nbformat": 4,
  "nbformat_minor": 5
}