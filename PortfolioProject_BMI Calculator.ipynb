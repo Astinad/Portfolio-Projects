{
 "cells": [
  {
   "cell_type": "code",
   "execution_count": 1,
   "id": "1e0cfb9f",
   "metadata": {},
   "outputs": [
    {
     "name": "stdout",
     "output_type": "stream",
     "text": [
      "Enter your Name: Astina\n"
     ]
    }
   ],
   "source": [
    "name = input(\"Enter your Name: \")"
   ]
  },
  {
   "cell_type": "code",
   "execution_count": 2,
   "id": "f60e6bbf",
   "metadata": {},
   "outputs": [
    {
     "name": "stdout",
     "output_type": "stream",
     "text": [
      "Enter your weight in kilograms: 42.7\n"
     ]
    }
   ],
   "source": [
    "weight = float(input(\"Enter your weight in kilograms: \"))"
   ]
  },
  {
   "cell_type": "code",
   "execution_count": 3,
   "id": "dd04eeb1",
   "metadata": {},
   "outputs": [
    {
     "name": "stdout",
     "output_type": "stream",
     "text": [
      "Enter your height in centimeter: 158.7\n"
     ]
    }
   ],
   "source": [
    "height = float(input(\"Enter your height in centimeter: \"))"
   ]
  },
  {
   "cell_type": "code",
   "execution_count": 4,
   "id": "6ea948eb",
   "metadata": {},
   "outputs": [],
   "source": [
    "#The formula is BMI = kg/m2 where kg is a person’s weight in kilograms and m2 is their height in meters squared. "
   ]
  },
  {
   "cell_type": "code",
   "execution_count": 5,
   "id": "2a15fc23",
   "metadata": {},
   "outputs": [],
   "source": [
    "BMI = (weight) / (height/100)**2"
   ]
  },
  {
   "cell_type": "code",
   "execution_count": 6,
   "id": "41081c0c",
   "metadata": {},
   "outputs": [
    {
     "name": "stdout",
     "output_type": "stream",
     "text": [
      "16.954071935293417\n"
     ]
    }
   ],
   "source": [
    "print(BMI)"
   ]
  },
  {
   "cell_type": "code",
   "execution_count": 7,
   "id": "e97a7b86",
   "metadata": {},
   "outputs": [
    {
     "name": "stdout",
     "output_type": "stream",
     "text": [
      "Astina, You're Underwight.\n"
     ]
    }
   ],
   "source": [
    "if BMI>0:\n",
    "    if(BMI<=18.5):\n",
    "        print(name +\", You're Underweight.\")\n",
    "    elif (BMI<=24.9):\n",
    "        print(name +\",You have normal weight.\")\n",
    "    elif (BMI<=29.9):\n",
    "        print(name +\", You're Overweight.\")\n",
    "    elif (BMI<=34.9):\n",
    "        print(name +\", You're Obese.\")\n",
    "    elif (BMI<=39.9):\n",
    "        print(name +\", You're Severely Obese.\")\n",
    "    elif (BMI>40):\n",
    "        print(name +\", You're Morbidly Obese.\")\n",
    "else:\n",
    "    print(\"Enter valid input\")"
   ]
  },
  {
   "cell_type": "code",
   "execution_count": 18,
   "id": "44d2a3bf",
   "metadata": {},
   "outputs": [],
   "source": [
    "from pywebio.input import *\n",
    "from pywebio.output import *"
   ]
  },
  {
   "cell_type": "code",
   "execution_count": 19,
   "id": "77276527",
   "metadata": {},
   "outputs": [],
   "source": [
    "def bmicalculator():\n",
    "    name = input(\"Enter your Name: \")\n",
    "    weight = float(input(\"Enter your weight in kilograms: \"))\n",
    "    height = float(input(\"Enter your height in centimeter: \"))\n",
    "    \n",
    "    #The formula is BMI = kg/m2 where kg is a person’s weight in kilograms and m2 is their height in meters squared. \n",
    "    BMI = (weight) / (height/100)**2\n",
    "    \n",
    "    if(BMI<=18.5):\n",
    "        print(name +\", You're Underweight.\")\n",
    "    elif (BMI<=24.9):\n",
    "        print(name +\",You have normal weight.\")\n",
    "    elif (BMI<=29.9):\n",
    "        print(name +\", You're Overweight.\")\n",
    "    elif (BMI<=34.9):\n",
    "        print(name +\", You're Obese.\")\n",
    "    elif (BMI<=39.9):\n",
    "        print(name +\", You're Severely Obese.\")\n",
    "    elif (BMI>40):\n",
    "        print(name +\", You're Morbidly Obese.\")\n",
    "    BMI_output=[(16, 'Severely underweight'), (18.5, 'Underweight'),\n",
    "                  (25, 'Normal'), (30, 'Overweight'),\n",
    "                  (35, 'Moderately obese'), (float('inf'), 'Severely obese')]\n",
    "    \n",
    "    for tuple1,tuple2 in BMI_output:\n",
    "        if BMI<=tuple1:\n",
    "            put_text('Your BMI is :%.1f and %s you are :%s'%(BMI,name,tuple2))\n",
    "            break"
   ]
  },
  {
   "cell_type": "code",
   "execution_count": 20,
   "id": "bab765d4",
   "metadata": {},
   "outputs": [
    {
     "ename": "SessionClosedException",
     "evalue": "",
     "output_type": "error",
     "traceback": [
      "\u001b[1;31m---------------------------------------------------------------------------\u001b[0m",
      "\u001b[1;31mSessionClosedException\u001b[0m                    Traceback (most recent call last)",
      "Input \u001b[1;32mIn [20]\u001b[0m, in \u001b[0;36m<cell line: 1>\u001b[1;34m()\u001b[0m\n\u001b[0;32m      1\u001b[0m \u001b[38;5;28;01mif\u001b[39;00m \u001b[38;5;18m__name__\u001b[39m\u001b[38;5;241m==\u001b[39m\u001b[38;5;124m'\u001b[39m\u001b[38;5;124m__main__\u001b[39m\u001b[38;5;124m'\u001b[39m:\n\u001b[1;32m----> 2\u001b[0m     \u001b[43mbmicalculator\u001b[49m\u001b[43m(\u001b[49m\u001b[43m)\u001b[49m\n",
      "Input \u001b[1;32mIn [19]\u001b[0m, in \u001b[0;36mbmicalculator\u001b[1;34m()\u001b[0m\n\u001b[0;32m      1\u001b[0m \u001b[38;5;28;01mdef\u001b[39;00m \u001b[38;5;21mbmicalculator\u001b[39m():\n\u001b[1;32m----> 2\u001b[0m     name \u001b[38;5;241m=\u001b[39m \u001b[38;5;28;43minput\u001b[39;49m\u001b[43m(\u001b[49m\u001b[38;5;124;43m\"\u001b[39;49m\u001b[38;5;124;43mEnter your Name: \u001b[39;49m\u001b[38;5;124;43m\"\u001b[39;49m\u001b[43m)\u001b[49m\n\u001b[0;32m      3\u001b[0m     weight \u001b[38;5;241m=\u001b[39m \u001b[38;5;28mfloat\u001b[39m(\u001b[38;5;28minput\u001b[39m(\u001b[38;5;124m\"\u001b[39m\u001b[38;5;124mEnter your weight in kilograms: \u001b[39m\u001b[38;5;124m\"\u001b[39m))\n\u001b[0;32m      4\u001b[0m     height \u001b[38;5;241m=\u001b[39m \u001b[38;5;28mfloat\u001b[39m(\u001b[38;5;28minput\u001b[39m(\u001b[38;5;124m\"\u001b[39m\u001b[38;5;124mEnter your height in centimeter: \u001b[39m\u001b[38;5;124m\"\u001b[39m))\n",
      "File \u001b[1;32m~\\anaconda3\\lib\\site-packages\\pywebio\\input.py:260\u001b[0m, in \u001b[0;36minput\u001b[1;34m(label, type, validate, name, value, action, onchange, placeholder, required, readonly, datalist, help_text, **other_html_attrs)\u001b[0m\n\u001b[0;32m    256\u001b[0m         \u001b[38;5;28;01mreturn\u001b[39;00m value_setter\u001b[38;5;241m.\u001b[39mvalue\n\u001b[0;32m    258\u001b[0m     \u001b[38;5;28;01mreturn\u001b[39;00m d\n\u001b[1;32m--> 260\u001b[0m \u001b[38;5;28;01mreturn\u001b[39;00m \u001b[43msingle_input\u001b[49m\u001b[43m(\u001b[49m\u001b[43mitem_spec\u001b[49m\u001b[43m,\u001b[49m\u001b[43m \u001b[49m\u001b[43mvalid_func\u001b[49m\u001b[43m,\u001b[49m\u001b[43m \u001b[49m\u001b[43mpreprocess_func\u001b[49m\u001b[43m,\u001b[49m\u001b[43m \u001b[49m\u001b[43monchange_func\u001b[49m\u001b[43m)\u001b[49m\n",
      "File \u001b[1;32m~\\anaconda3\\lib\\site-packages\\pywebio\\session\\__init__.py:283\u001b[0m, in \u001b[0;36mchose_impl.<locals>.inner\u001b[1;34m(*args, **kwargs)\u001b[0m\n\u001b[0;32m    281\u001b[0m     \u001b[38;5;28;01mreturn\u001b[39;00m to_coroutine(gen)\n\u001b[0;32m    282\u001b[0m \u001b[38;5;28;01melse\u001b[39;00m:\n\u001b[1;32m--> 283\u001b[0m     \u001b[38;5;28;01mreturn\u001b[39;00m \u001b[43mrun_as_function\u001b[49m\u001b[43m(\u001b[49m\u001b[43mgen\u001b[49m\u001b[43m)\u001b[49m\n",
      "File \u001b[1;32m~\\anaconda3\\lib\\site-packages\\pywebio\\utils.py:296\u001b[0m, in \u001b[0;36mrun_as_function\u001b[1;34m(gen)\u001b[0m\n\u001b[0;32m    294\u001b[0m \u001b[38;5;28;01mwhile\u001b[39;00m \u001b[38;5;241m1\u001b[39m:\n\u001b[0;32m    295\u001b[0m     \u001b[38;5;28;01mtry\u001b[39;00m:\n\u001b[1;32m--> 296\u001b[0m         res \u001b[38;5;241m=\u001b[39m \u001b[43mgen\u001b[49m\u001b[38;5;241;43m.\u001b[39;49m\u001b[43msend\u001b[49m\u001b[43m(\u001b[49m\u001b[43mres\u001b[49m\u001b[43m)\u001b[49m\n\u001b[0;32m    297\u001b[0m     \u001b[38;5;28;01mexcept\u001b[39;00m \u001b[38;5;167;01mStopIteration\u001b[39;00m \u001b[38;5;28;01mas\u001b[39;00m e:\n\u001b[0;32m    298\u001b[0m         \u001b[38;5;28;01mif\u001b[39;00m \u001b[38;5;28mlen\u001b[39m(e\u001b[38;5;241m.\u001b[39margs) \u001b[38;5;241m==\u001b[39m \u001b[38;5;241m1\u001b[39m:\n",
      "File \u001b[1;32m~\\anaconda3\\lib\\site-packages\\pywebio\\io_ctrl.py:260\u001b[0m, in \u001b[0;36msingle_input\u001b[1;34m(item_spec, valid_func, preprocess_func, onchange_func)\u001b[0m\n\u001b[0;32m    257\u001b[0m item_spec\u001b[38;5;241m.\u001b[39msetdefault(\u001b[38;5;124m'\u001b[39m\u001b[38;5;124mauto_focus\u001b[39m\u001b[38;5;124m'\u001b[39m, \u001b[38;5;28;01mTrue\u001b[39;00m)  \u001b[38;5;66;03m# 如果没有设置autofocus参数，则开启参数  todo CHECKBOX, RADIO 特殊处理\u001b[39;00m\n\u001b[0;32m    259\u001b[0m spec \u001b[38;5;241m=\u001b[39m \u001b[38;5;28mdict\u001b[39m(label\u001b[38;5;241m=\u001b[39mlabel, inputs\u001b[38;5;241m=\u001b[39m[item_spec])\n\u001b[1;32m--> 260\u001b[0m data \u001b[38;5;241m=\u001b[39m \u001b[38;5;28;01myield\u001b[39;00m \u001b[43minput_control\u001b[49m\u001b[43m(\u001b[49m\u001b[43mspec\u001b[49m\u001b[38;5;241;43m=\u001b[39;49m\u001b[43mspec\u001b[49m\u001b[43m,\u001b[49m\n\u001b[0;32m    261\u001b[0m \u001b[43m                           \u001b[49m\u001b[43mpreprocess_funcs\u001b[49m\u001b[38;5;241;43m=\u001b[39;49m\u001b[43m{\u001b[49m\u001b[43mname\u001b[49m\u001b[43m:\u001b[49m\u001b[43m \u001b[49m\u001b[43mpreprocess_func\u001b[49m\u001b[43m}\u001b[49m\u001b[43m,\u001b[49m\n\u001b[0;32m    262\u001b[0m \u001b[43m                           \u001b[49m\u001b[43mitem_valid_funcs\u001b[49m\u001b[38;5;241;43m=\u001b[39;49m\u001b[43m{\u001b[49m\u001b[43mname\u001b[49m\u001b[43m:\u001b[49m\u001b[43m \u001b[49m\u001b[43mvalid_func\u001b[49m\u001b[43m}\u001b[49m\u001b[43m,\u001b[49m\n\u001b[0;32m    263\u001b[0m \u001b[43m                           \u001b[49m\u001b[43monchange_funcs\u001b[49m\u001b[38;5;241;43m=\u001b[39;49m\u001b[43m{\u001b[49m\u001b[43mname\u001b[49m\u001b[43m:\u001b[49m\u001b[43m \u001b[49m\u001b[43monchange_func\u001b[49m\u001b[43m}\u001b[49m\u001b[43m)\u001b[49m\n\u001b[0;32m    265\u001b[0m \u001b[38;5;28;01mif\u001b[39;00m \u001b[38;5;129;01mnot\u001b[39;00m data:  \u001b[38;5;66;03m# form cancel\u001b[39;00m\n\u001b[0;32m    266\u001b[0m     \u001b[38;5;28;01mreturn\u001b[39;00m \u001b[38;5;28;01mNone\u001b[39;00m\n",
      "File \u001b[1;32m~\\anaconda3\\lib\\site-packages\\pywebio\\session\\__init__.py:283\u001b[0m, in \u001b[0;36mchose_impl.<locals>.inner\u001b[1;34m(*args, **kwargs)\u001b[0m\n\u001b[0;32m    281\u001b[0m     \u001b[38;5;28;01mreturn\u001b[39;00m to_coroutine(gen)\n\u001b[0;32m    282\u001b[0m \u001b[38;5;28;01melse\u001b[39;00m:\n\u001b[1;32m--> 283\u001b[0m     \u001b[38;5;28;01mreturn\u001b[39;00m \u001b[43mrun_as_function\u001b[49m\u001b[43m(\u001b[49m\u001b[43mgen\u001b[49m\u001b[43m)\u001b[49m\n",
      "File \u001b[1;32m~\\anaconda3\\lib\\site-packages\\pywebio\\utils.py:296\u001b[0m, in \u001b[0;36mrun_as_function\u001b[1;34m(gen)\u001b[0m\n\u001b[0;32m    294\u001b[0m \u001b[38;5;28;01mwhile\u001b[39;00m \u001b[38;5;241m1\u001b[39m:\n\u001b[0;32m    295\u001b[0m     \u001b[38;5;28;01mtry\u001b[39;00m:\n\u001b[1;32m--> 296\u001b[0m         res \u001b[38;5;241m=\u001b[39m \u001b[43mgen\u001b[49m\u001b[38;5;241;43m.\u001b[39;49m\u001b[43msend\u001b[49m\u001b[43m(\u001b[49m\u001b[43mres\u001b[49m\u001b[43m)\u001b[49m\n\u001b[0;32m    297\u001b[0m     \u001b[38;5;28;01mexcept\u001b[39;00m \u001b[38;5;167;01mStopIteration\u001b[39;00m \u001b[38;5;28;01mas\u001b[39;00m e:\n\u001b[0;32m    298\u001b[0m         \u001b[38;5;28;01mif\u001b[39;00m \u001b[38;5;28mlen\u001b[39m(e\u001b[38;5;241m.\u001b[39margs) \u001b[38;5;241m==\u001b[39m \u001b[38;5;241m1\u001b[39m:\n",
      "File \u001b[1;32m~\\anaconda3\\lib\\site-packages\\pywebio\\io_ctrl.py:281\u001b[0m, in \u001b[0;36minput_control\u001b[1;34m(spec, preprocess_funcs, item_valid_funcs, onchange_funcs, form_valid_funcs)\u001b[0m\n\u001b[0;32m    270\u001b[0m \u001b[38;5;129m@chose_impl\u001b[39m\n\u001b[0;32m    271\u001b[0m \u001b[38;5;28;01mdef\u001b[39;00m \u001b[38;5;21minput_control\u001b[39m(spec, preprocess_funcs, item_valid_funcs, onchange_funcs, form_valid_funcs\u001b[38;5;241m=\u001b[39m\u001b[38;5;28;01mNone\u001b[39;00m):\n\u001b[0;32m    272\u001b[0m     \u001b[38;5;124;03m\"\"\"\u001b[39;00m\n\u001b[0;32m    273\u001b[0m \u001b[38;5;124;03m    发送input命令，监听事件，验证输入项，返回结果\u001b[39;00m\n\u001b[0;32m    274\u001b[0m \u001b[38;5;124;03m    :param spec:\u001b[39;00m\n\u001b[1;32m   (...)\u001b[0m\n\u001b[0;32m    279\u001b[0m \u001b[38;5;124;03m    :return:\u001b[39;00m\n\u001b[0;32m    280\u001b[0m \u001b[38;5;124;03m    \"\"\"\u001b[39;00m\n\u001b[1;32m--> 281\u001b[0m     \u001b[43msend_msg\u001b[49m\u001b[43m(\u001b[49m\u001b[38;5;124;43m'\u001b[39;49m\u001b[38;5;124;43minput_group\u001b[39;49m\u001b[38;5;124;43m'\u001b[39;49m\u001b[43m,\u001b[49m\u001b[43m \u001b[49m\u001b[43mspec\u001b[49m\u001b[43m)\u001b[49m\n\u001b[0;32m    283\u001b[0m     data \u001b[38;5;241m=\u001b[39m \u001b[38;5;28;01myield\u001b[39;00m input_event_handle(item_valid_funcs, form_valid_funcs, preprocess_funcs, onchange_funcs)\n\u001b[0;32m    285\u001b[0m     send_msg(\u001b[38;5;124m'\u001b[39m\u001b[38;5;124mdestroy_form\u001b[39m\u001b[38;5;124m'\u001b[39m)\n",
      "File \u001b[1;32m~\\anaconda3\\lib\\site-packages\\pywebio\\io_ctrl.py:216\u001b[0m, in \u001b[0;36msend_msg\u001b[1;34m(cmd, spec, task_id)\u001b[0m\n\u001b[0;32m    215\u001b[0m \u001b[38;5;28;01mdef\u001b[39;00m \u001b[38;5;21msend_msg\u001b[39m(cmd, spec\u001b[38;5;241m=\u001b[39m\u001b[38;5;28;01mNone\u001b[39;00m, task_id\u001b[38;5;241m=\u001b[39m\u001b[38;5;28;01mNone\u001b[39;00m):\n\u001b[1;32m--> 216\u001b[0m     msg \u001b[38;5;241m=\u001b[39m \u001b[38;5;28mdict\u001b[39m(command\u001b[38;5;241m=\u001b[39mcmd, spec\u001b[38;5;241m=\u001b[39mspec, task_id\u001b[38;5;241m=\u001b[39mtask_id \u001b[38;5;129;01mor\u001b[39;00m \u001b[43mget_current_task_id\u001b[49m\u001b[43m(\u001b[49m\u001b[43m)\u001b[49m)\n\u001b[0;32m    217\u001b[0m     get_current_session()\u001b[38;5;241m.\u001b[39msend_task_command(msg)\n",
      "File \u001b[1;32m~\\anaconda3\\lib\\site-packages\\pywebio\\session\\__init__.py:241\u001b[0m, in \u001b[0;36mget_current_task_id\u001b[1;34m()\u001b[0m\n\u001b[0;32m    240\u001b[0m \u001b[38;5;28;01mdef\u001b[39;00m \u001b[38;5;21mget_current_task_id\u001b[39m():\n\u001b[1;32m--> 241\u001b[0m     \u001b[38;5;28;01mreturn\u001b[39;00m \u001b[43mget_session_implement\u001b[49m\u001b[43m(\u001b[49m\u001b[43m)\u001b[49m\u001b[38;5;241;43m.\u001b[39;49m\u001b[43mget_current_task_id\u001b[49m\u001b[43m(\u001b[49m\u001b[43m)\u001b[49m\n",
      "File \u001b[1;32m~\\anaconda3\\lib\\site-packages\\pywebio\\session\\threadbased.py:318\u001b[0m, in \u001b[0;36mScriptModeSession.get_current_task_id\u001b[1;34m(cls)\u001b[0m\n\u001b[0;32m    315\u001b[0m \u001b[38;5;129m@classmethod\u001b[39m\n\u001b[0;32m    316\u001b[0m \u001b[38;5;28;01mdef\u001b[39;00m \u001b[38;5;21mget_current_task_id\u001b[39m(\u001b[38;5;28mcls\u001b[39m):\n\u001b[0;32m    317\u001b[0m     task_id \u001b[38;5;241m=\u001b[39m \u001b[38;5;28msuper\u001b[39m()\u001b[38;5;241m.\u001b[39mget_current_task_id()\n\u001b[1;32m--> 318\u001b[0m     session \u001b[38;5;241m=\u001b[39m \u001b[38;5;28;43mcls\u001b[39;49m\u001b[38;5;241;43m.\u001b[39;49m\u001b[43mget_current_session\u001b[49m\u001b[43m(\u001b[49m\u001b[43m)\u001b[49m\n\u001b[0;32m    319\u001b[0m     \u001b[38;5;28;01mif\u001b[39;00m task_id \u001b[38;5;129;01mnot\u001b[39;00m \u001b[38;5;129;01min\u001b[39;00m session\u001b[38;5;241m.\u001b[39mtask_mqs:\n\u001b[0;32m    320\u001b[0m         session\u001b[38;5;241m.\u001b[39mregister_thread(threading\u001b[38;5;241m.\u001b[39mcurrent_thread())\n",
      "File \u001b[1;32m~\\anaconda3\\lib\\site-packages\\pywebio\\session\\threadbased.py:312\u001b[0m, in \u001b[0;36mScriptModeSession.get_current_session\u001b[1;34m(cls)\u001b[0m\n\u001b[0;32m    310\u001b[0m     \u001b[38;5;28;01mraise\u001b[39;00m SessionNotFoundException(\u001b[38;5;124m\"\u001b[39m\u001b[38;5;124mCan\u001b[39m\u001b[38;5;124m'\u001b[39m\u001b[38;5;124mt find current session. It might be a bug.\u001b[39m\u001b[38;5;124m\"\u001b[39m)\n\u001b[0;32m    311\u001b[0m \u001b[38;5;28;01mif\u001b[39;00m \u001b[38;5;28mcls\u001b[39m\u001b[38;5;241m.\u001b[39minstance\u001b[38;5;241m.\u001b[39mclosed():\n\u001b[1;32m--> 312\u001b[0m     \u001b[38;5;28;01mraise\u001b[39;00m SessionClosedException()\n\u001b[0;32m    313\u001b[0m \u001b[38;5;28;01mreturn\u001b[39;00m \u001b[38;5;28mcls\u001b[39m\u001b[38;5;241m.\u001b[39minstance\n",
      "\u001b[1;31mSessionClosedException\u001b[0m: "
     ]
    }
   ],
   "source": [
    "if __name__=='__main__':\n",
    "    bmicalculator()"
   ]
  },
  {
   "cell_type": "code",
   "execution_count": null,
   "id": "68cfd412",
   "metadata": {},
   "outputs": [],
   "source": []
  },
  {
   "cell_type": "code",
   "execution_count": null,
   "id": "876a6f9f",
   "metadata": {},
   "outputs": [],
   "source": []
  }
 ],
 "metadata": {
  "kernelspec": {
   "display_name": "Python 3 (ipykernel)",
   "language": "python",
   "name": "python3"
  },
  "language_info": {
   "codemirror_mode": {
    "name": "ipython",
    "version": 3
   },
   "file_extension": ".py",
   "mimetype": "text/x-python",
   "name": "python",
   "nbconvert_exporter": "python",
   "pygments_lexer": "ipython3",
   "version": "3.9.12"
  }
 },
 "nbformat": 4,
 "nbformat_minor": 5
}
